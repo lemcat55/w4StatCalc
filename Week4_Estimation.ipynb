{
  "nbformat": 4,
  "nbformat_minor": 0,
  "metadata": {
    "colab": {
      "provenance": [],
      "toc_visible": true,
      "authorship_tag": "ABX9TyP/8M+mZFFdqk0h2KB/ZY2N",
      "include_colab_link": true
    },
    "kernelspec": {
      "name": "python3",
      "display_name": "Python 3"
    },
    "language_info": {
      "name": "python"
    }
  },
  "cells": [
    {
      "cell_type": "markdown",
      "metadata": {
        "id": "view-in-github",
        "colab_type": "text"
      },
      "source": [
        "<a href=\"https://colab.research.google.com/github/lemcat55/w4StatCalc/blob/main/Week4_Estimation.ipynb\" target=\"_parent\"><img src=\"https://colab.research.google.com/assets/colab-badge.svg\" alt=\"Open In Colab\"/></a>"
      ]
    },
    {
      "cell_type": "markdown",
      "source": [
        "**bold text**"
      ],
      "metadata": {
        "id": "SJ-THDh91D59"
      }
    },
    {
      "cell_type": "markdown",
      "source": [
        "#How to use this application\n",
        "To use this application, you have to be signed in one of your Google accounts (e.g., have your Gmail open).\n",
        "1.\tClick the white triangle inside the black circle in the cell [1]. It is a one-time operation for the entire session - no matter how many problems you are going to solve. This operation loads necessary libraries and defines two functions that will be used for graphing results. As an alternative, you can click Run All in Runtime section of the menu at the top of the application.\n",
        "2.\tIn Table of contents (on the left side of the application), find the type of the problem you are solving, for example, \"2: Confidence Interval for Mean\" and click that item. It will bring you to the code for the problem. \n",
        "You do not need to understand the code; you just need to enter your input data in first few lines of the code (until the line ############). If std refers to standard deviation of the population, use tz='z'. If std refers to standard deviation of the sample, use tz='t'.\n",
        "The variable N denotes the size of a population. If N is unknown, use N=None. \n",
        "Run the code by clicking the white triangle inside the black circle of the code’s cell. The graphical and numerical results will be displayed.\n",
        "3.\tTo solve the next problem, go to point 2 of this instruction."
      ],
      "metadata": {
        "id": "qpabR1sYQBsN"
      }
    },
    {
      "cell_type": "markdown",
      "source": [
        "# 1: Define functions for graphing the results"
      ],
      "metadata": {
        "id": "ZFiG3WW66mg3"
      }
    },
    {
      "cell_type": "code",
      "source": [
        "import numpy as np\n",
        "import matplotlib.pyplot as plt\n",
        "import scipy.stats as stats\n",
        "def g(n,tz,mean,std,clr,x1,x2):\n",
        "  i1=0\n",
        "  i2=600\n",
        "  left=mean-3*std\n",
        "  right=mean+3*std\n",
        "  x=np.linspace(left,right,i2+1)\n",
        "  deltaX=6*std/i2\n",
        "  if tz=='z': y1=stats.norm.pdf(x,mean,std)\n",
        "  if tz=='t': y1=stats.t.pdf(x,n-1,mean,std)\n",
        "  y=y1.copy()\n",
        "\n",
        "\n",
        "  if x1==None:\n",
        "    i2=int((x2-left)/deltaX)\n",
        "    if i2>600: i2=600\n",
        "    #print(\"i2=\",i2)\n",
        "    y1[0:i2:1]=0  \n",
        "  elif x2==None:\n",
        "    i1=int((x1-left)/deltaX)\n",
        "    if i1<0: i1=0\n",
        "    y1[i1:600:1]=0\n",
        "  else:\n",
        "    i1=int((x1-left)/deltaX)\n",
        "    if i1<0: i1=0\n",
        "    i2=int((x2-left)/deltaX)\n",
        "    if i2>600: i2=600\n",
        "    y1[0:i1:1]=0\n",
        "    y1[i2:600:1]=0\n",
        "\n",
        "  y2=0*x\n",
        "  plt.rcParams[\"figure.figsize\"]=(4,2)\n",
        "  plt.fill_between(x, y1, step=\"pre\", alpha=1, color=clr)\n",
        "  plt.fill_between(x, y2, step=\"pre\", alpha=1, color=clr)\n",
        "  plt.plot(x, y1, drawstyle=\"steps\", color=\"white\")\n",
        "  plt.plot(x, y2, drawstyle=\"steps\", color=\"white\")\n",
        "  plt.plot(x,y)\n",
        "\n",
        "def f(n,tz,mean,std,clr,P,side):\n",
        "  if side==\"left\":\n",
        "    if tz=='z': x1=stats.norm.ppf(P,loc=mean,scale=std)\n",
        "    if tz=='t': x1=stats.t.ppf(P,n-1,loc=mean,scale=std)\n",
        "    x2=None\n",
        "  elif side==\"right\":\n",
        "    x1=None\n",
        "    if tz=='z': x2=stats.norm.ppf(1-P,loc=mean,scale=std)\n",
        "    if tz=='t': x2=stats.t.ppf(1-P,n-1,loc=mean,scale=std)\n",
        "  else:#midle\n",
        "    if tz=='z': \n",
        "      x1=stats.norm.ppf((1-P)/2,loc=mean,scale=std)\n",
        "      x2=stats.norm.ppf((1+P)/2,loc=mean,scale=std)\n",
        "    if tz=='t': \n",
        "      x1=stats.t.ppf((1-P)/2,n-1,loc=mean,scale=std)\n",
        "      x2=stats.t.ppf((1+P)/2,n-1,loc=mean,scale=std)\n",
        "  \n",
        "  g(n,tz,mean,std,clr,x1,x2)"
      ],
      "metadata": {
        "id": "GGrn_nAUMFbU"
      },
      "execution_count": null,
      "outputs": []
    },
    {
      "cell_type": "markdown",
      "source": [
        "# 2: Confidence Interval for Mean when population sigma is known\n"
      ],
      "metadata": {
        "id": "16yMVJFfUP76"
      }
    },
    {
      "cell_type": "code",
      "execution_count": null,
      "metadata": {
        "colab": {
          "base_uri": "https://localhost:8080/",
          "height": 244
        },
        "id": "CVrTRwvw0-OZ",
        "outputId": "3977feca-6efb-490c-9397-caad99ff506f"
      },
      "outputs": [
        {
          "output_type": "stream",
          "name": "stdout",
          "text": [
            "x1 = 120.10238013959038\n",
            "x2 = 129.8976198604096\n",
            "z= 2.5758293035489004\n",
            "se = 1.901375938872122\n",
            "ME = 4.897619860409613\n"
          ]
        },
        {
          "output_type": "display_data",
          "data": {
            "text/plain": [
              "<Figure size 288x144 with 1 Axes>"
            ],
            "image/png": "[encoded data removed]"
          },
          "metadata": {
            "needs_background": "light"
          }
        }
      ],
      "source": [
        "##  Enter your data #################\n",
        "mean=125\n",
        "sigma=14\n",
        "Conf=0.99\n",
        "n=49\n",
        "N=500\n",
        "############\n",
        "tz='z'\n",
        "std=sigma\n",
        "if not n==None: std/=np.sqrt(n)\n",
        "if not N==None:\n",
        "  std*=np.sqrt((N-n)/(N-1))\n",
        "f(n,tz,mean,std,\"lightgreen\",Conf,\"middle\")\n",
        "if tz=='z':\n",
        "  x1=stats.norm.ppf((1-Conf)/2,loc=mean,scale=std)\n",
        "  x2=stats.norm.ppf((1+Conf)/2,loc=mean,scale=std)\n",
        "  print(\"x1 =\",x1)\n",
        "  print(\"x2 =\",x2)\n",
        "  print(\"z=\",stats.norm.ppf((1+Conf)/2,loc=0,scale=1))\n",
        "if tz=='t':\n",
        "  x1=stats.t.ppf((1-Conf)/2,n-1,loc=mean,scale=std)\n",
        "  x2=stats.t.ppf((1+Conf)/2,n-1,loc=mean,scale=std)\n",
        "  print(\"x1 =\",x1)\n",
        "  print(\"x2 =\",x2)\n",
        "  print(\"t =\",stats.t.ppf((1+Conf)/2,n-1,loc=0,scale=1))\n",
        "print(\"se =\",std)\n",
        "print(\"ME =\",(x2-x1)/2)"
      ]
    },
    {
      "cell_type": "markdown",
      "source": [
        "# 3: Confidence Interval for Mean when population sigma is NOT known"
      ],
      "metadata": {
        "id": "jWeqT_SrGobW"
      }
    },
    {
      "cell_type": "code",
      "source": [
        "##  Enter your data #################\n",
        "mean=41.89\n",
        "std=8.3858\n",
        "Conf=0.99\n",
        "n=100\n",
        "N=None\n",
        "############\n",
        "tz='t'\n",
        "std/=np.sqrt(n)\n",
        "if not N==None:\n",
        "  std*=np.sqrt((N-n)/(N-1))\n",
        "f(n,tz,mean,std,\"lightgreen\",Conf,\"middle\")\n",
        "if tz=='z':\n",
        "  x1=stats.norm.ppf((1-Conf)/2,loc=mean,scale=std)\n",
        "  x2=stats.norm.ppf((1+Conf)/2,loc=mean,scale=std)\n",
        "  print(\"x1 =\",x1)\n",
        "  print(\"x2 =\",x2)\n",
        "  print(\"z=\",stats.norm.ppf((1+Conf)/2,loc=0,scale=1))\n",
        "if tz=='t':\n",
        "  x1=stats.t.ppf((1-Conf)/2,n-1,loc=mean,scale=std)\n",
        "  x2=stats.t.ppf((1+Conf)/2,n-1,loc=mean,scale=std)\n",
        "  print(\"x1 =\",x1)\n",
        "  print(\"x2 =\",x2)\n",
        "  print(\"t =\",stats.t.ppf((1+Conf)/2,n-1,loc=0,scale=1))\n",
        "print(\"se =\",std)\n",
        "print(\"ME =\",(x2-x1)/2)"
      ],
      "metadata": {
        "colab": {
          "base_uri": "https://localhost:8080/",
          "height": 244
        },
        "id": "DIt9uDM0EZ7B",
        "outputId": "4a1a119f-f887-4bfb-80ec-f6157d3f699d"
      },
      "execution_count": null,
      "outputs": [
        {
          "output_type": "stream",
          "name": "stdout",
          "text": [
            "x1 = 39.687548912384514\n",
            "x2 = 44.09245108761549\n",
            "t = 2.6264054563851857\n",
            "se = 0.83858\n",
            "ME = 2.2024510876154864\n"
          ]
        },
        {
          "output_type": "display_data",
          "data": {
            "text/plain": [
              "<Figure size 288x144 with 1 Axes>"
            ],
            "image/png": "[encoded data removed]"
          },
          "metadata": {
            "needs_background": "light"
          }
        }
      ]
    },
    {
      "cell_type": "markdown",
      "source": [
        "# 4: Confidence Interval for Proportion when Sample Proportion pHat is Known"
      ],
      "metadata": {
        "id": "j1ZmUFyq4yBX"
      }
    },
    {
      "cell_type": "code",
      "source": [
        "##  Enter your data #################\n",
        "Conf=0.99\n",
        "n=100\n",
        "pHat=0.53\n",
        "N=None\n",
        "############\n",
        "mean=pHat\n",
        "z=stats.norm.ppf((1+Conf)/2,loc=0,scale=1)\n",
        "se=np.sqrt(pHat*(1-pHat)/n)\n",
        "if not N==None:\n",
        "  se*=np.sqrt((N-n)/(N-1))\n",
        "print('Sample Proportion =',pHat)\n",
        "print('se =',se)\n",
        "print('z =',z)\n",
        "me=z*se\n",
        "print('Margine of Error =',me)\n",
        "x1=pHat-me\n",
        "x2=pHat+me\n",
        "print(\"x1 =\",x1)\n",
        "print(\"x2 =\",x2)\n",
        "f(n,'z',mean,se,\"lightgreen\",Conf,\"middle\")"
      ],
      "metadata": {
        "colab": {
          "base_uri": "https://localhost:8080/",
          "height": 261
        },
        "id": "0gNomx8Q4--5",
        "outputId": "5b152022-b3a4-4068-d2d2-21d187cef0b2"
      },
      "execution_count": null,
      "outputs": [
        {
          "output_type": "stream",
          "name": "stdout",
          "text": [
            "Sample Proportion = 0.53\n",
            "se = 0.04990991885387112\n",
            "z = 2.5758293035489004\n",
            "Margine of Error = 0.12855943152154897\n",
            "x1 = 0.40144056847845105\n",
            "x2 = 0.658559431521549\n"
          ]
        },
        {
          "output_type": "display_data",
          "data": {
            "text/plain": [
              "<Figure size 288x144 with 1 Axes>"
            ],
            "image/png": "[encoded data removed]"
          },
          "metadata": {
            "needs_background": "light"
          }
        }
      ]
    },
    {
      "cell_type": "markdown",
      "source": [
        "# 5: Confidence Interval for Proportion when Number of Successes is Known"
      ],
      "metadata": {
        "id": "9gDR3EIxcJjQ"
      }
    },
    {
      "cell_type": "code",
      "source": [
        "##  Enter your data #################\n",
        "Conf=0.99\n",
        "n=100\n",
        "nSuccesses=53\n",
        "N=None\n",
        "############\n",
        "pHat=nSuccesses/n\n",
        "z=stats.norm.ppf((1+Conf)/2,loc=0,scale=1)\n",
        "se=np.sqrt(pHat*(1-pHat)/n)\n",
        "if not N==None:\n",
        "  se*=np.sqrt((N-n)/(N-1))\n",
        "print('Sample Proportion =',pHat)\n",
        "print('se =',se)\n",
        "print('z =',z)\n",
        "me=z*se\n",
        "print('Margine of Error =',me)\n",
        "x1=pHat-me\n",
        "x2=pHat+me\n",
        "print(\"x1 =\",x1)\n",
        "print(\"x2 =\",x2)\n",
        "f(n,'z',pHat,se,\"lightgreen\",Conf,\"middle\")"
      ],
      "metadata": {
        "colab": {
          "base_uri": "https://localhost:8080/",
          "height": 261
        },
        "id": "UYaXEsSrdHna",
        "outputId": "65c118e9-4052-45cc-c712-a8f5a55be87d"
      },
      "execution_count": null,
      "outputs": [
        {
          "output_type": "stream",
          "name": "stdout",
          "text": [
            "Sample Proportion = 0.53\n",
            "se = 0.04990991885387112\n",
            "z = 2.5758293035489004\n",
            "Margine of Error = 0.12855943152154897\n",
            "x1 = 0.40144056847845105\n",
            "x2 = 0.658559431521549\n"
          ]
        },
        {
          "output_type": "display_data",
          "data": {
            "text/plain": [
              "<Figure size 288x144 with 1 Axes>"
            ],
            "image/png": "[encoded data removed]"
          },
          "metadata": {
            "needs_background": "light"
          }
        }
      ]
    },
    {
      "cell_type": "markdown",
      "source": [
        "# 6: Minimum Sample Size for Mean"
      ],
      "metadata": {
        "id": "982wayX_JVh4"
      }
    },
    {
      "cell_type": "code",
      "source": [
        "##  Enter your data #################\n",
        "Conf=0.90\n",
        "std=4\n",
        "error=1\n",
        "########################\n",
        "z=stats.norm.ppf((1+Conf)/2,loc=0,scale=1)\n",
        "n=z*std/error\n",
        "n=np.ceil(n*n)\n",
        "print(\"n =\",int(n))\n",
        "print(\"z =\",z)"
      ],
      "metadata": {
        "colab": {
          "base_uri": "https://localhost:8080/"
        },
        "id": "D5R2-yVtL1lV",
        "outputId": "da1ef922-82a4-4d16-ba71-2303c561ffc0"
      },
      "execution_count": null,
      "outputs": [
        {
          "output_type": "stream",
          "name": "stdout",
          "text": [
            "n = 44\n",
            "z = 1.6448536269514722\n"
          ]
        }
      ]
    },
    {
      "cell_type": "markdown",
      "source": [
        "# 7: Minimum Sample Size for Proportion"
      ],
      "metadata": {
        "id": "g-rRHuEMOHCe"
      }
    },
    {
      "cell_type": "code",
      "source": [
        "##  Enter your data #################\n",
        "Conf=0.98\n",
        "pHat=0.4\n",
        "error=0.03\n",
        "########################\n",
        "z=stats.norm.ppf((1+Conf)/2,loc=0,scale=1)\n",
        "n=z/error\n",
        "n=np.ceil(n*n*pHat*(1-pHat))\n",
        "print(\"n =\",int(n))\n",
        "print(\"z =\",z)"
      ],
      "metadata": {
        "colab": {
          "base_uri": "https://localhost:8080/"
        },
        "id": "RBzoOyIYOPz7",
        "outputId": "0f290cc6-705c-43c7-883c-99fbe75c1c77"
      },
      "execution_count": null,
      "outputs": [
        {
          "output_type": "stream",
          "name": "stdout",
          "text": [
            "n = 1444\n",
            "z = 2.3263478740408408\n"
          ]
        }
      ]
    }
  ]
}